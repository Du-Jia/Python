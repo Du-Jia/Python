{
 "cells": [
  {
   "cell_type": "markdown",
   "metadata": {},
   "source": [
    "## 使用Socket建立TCP/IP连接\n",
    "> **客户端编程**\n",
    "\n",
    "> 代码来自[廖雪峰Python教程-网络编程](https://www.liaoxuefeng.com/wiki/0014316089557264a6b348958f449949df42a6d3a2e542c000/001432004374523e495f640612f4b08975398796939ec3c000)"
   ]
  },
  {
   "cell_type": "code",
   "execution_count": 1,
   "metadata": {},
   "outputs": [],
   "source": [
    "import socket"
   ]
  },
  {
   "cell_type": "code",
   "execution_count": 3,
   "metadata": {},
   "outputs": [],
   "source": [
    "## 创建一个socket并且建立连接\n",
    "s = socket.socket(socket.AF_INET, socket.SOCK_STREAM)\n",
    "s.connect(('www.sina.com.cn', 80))"
   ]
  },
  {
   "cell_type": "markdown",
   "metadata": {},
   "source": [
    "- 创建socket对象是设置协议的类型：AF_INET， 代表Ipv4协议\n",
    "- 连接使用`connect((ip_address, port))`"
   ]
  },
  {
   "cell_type": "code",
   "execution_count": 4,
   "metadata": {},
   "outputs": [
    {
     "data": {
      "text/plain": [
       "60"
      ]
     },
     "execution_count": 4,
     "metadata": {},
     "output_type": "execute_result"
    }
   ],
   "source": [
    "# 发送数据:\n",
    "s.send(b'GET / HTTP/1.1\\r\\nHost: www.sina.com.cn\\r\\nConnection: close\\r\\n\\r\\n')"
   ]
  },
  {
   "cell_type": "code",
   "execution_count": 7,
   "metadata": {},
   "outputs": [],
   "source": [
    "s = socket.socket(socket.AF_INET, socket.SOCK_STREAM)\n",
    "s.connect(('www.sina.com.cn', 80))\n",
    "s.send(b'GET / HTTP/1.1\\r\\nHost: www.sina.com.cn\\r\\nConnection: close\\r\\n\\r\\n')\n",
    "# 接收数据:\n",
    "buffer = []\n",
    "while True:\n",
    "    # 每次最多接收1k字节:\n",
    "    d = s.recv(1024)\n",
    "    if d:\n",
    "        buffer.append(d)\n",
    "    else:\n",
    "        break\n",
    "data = b''.join(buffer)"
   ]
  },
  {
   "cell_type": "code",
   "execution_count": 8,
   "metadata": {},
   "outputs": [],
   "source": [
    "# 关闭连接:\n",
    "s.close()"
   ]
  },
  {
   "cell_type": "code",
   "execution_count": 9,
   "metadata": {},
   "outputs": [
    {
     "name": "stdout",
     "output_type": "stream",
     "text": [
      "HTTP/1.1 200 OK\r\n",
      "Server: nginx\r\n",
      "Date: Sat, 14 Jul 2018 13:39:04 GMT\r\n",
      "Content-Type: text/html\r\n",
      "Content-Length: 571176\r\n",
      "Connection: close\r\n",
      "Last-Modified: Sat, 14 Jul 2018 13:35:02 GMT\r\n",
      "Vary: Accept-Encoding\r\n",
      "X-Powered-By: shci_v1.03\r\n",
      "Expires: Sat, 14 Jul 2018 13:39:08 GMT\r\n",
      "Cache-Control: max-age=60\r\n",
      "Age: 53\r\n",
      "Via: http/1.1 cnc.beixian.ha2ts4.207 (ApacheTrafficServer/6.2.1 [cHs f ]), http/1.1 cern.beijing.ha2ts4.209 (ApacheTrafficServer/6.2.1 [cHs f ])\r\n",
      "X-Via-Edge: 15315755448210983f9decfd4cd3a0e4d0bfb\r\n",
      "X-Cache: HIT.209\r\n",
      "X-Via-CDN: f=edge,s=cern.beijing.ha2ts4.207.nb.sinaedge.com,c=222.249.131.9;f=Edge,s=cern.beijing.ha2ts4.209,c=58.205.212.207\n"
     ]
    }
   ],
   "source": [
    "header, html = data.split(b'\\r\\n\\r\\n', 1)\n",
    "print(header.decode('utf-8'))\n",
    "# 把接收的数据写入文件:\n",
    "with open('sina.html', 'wb') as f:\n",
    "    f.write(html)"
   ]
  },
  {
   "cell_type": "markdown",
   "metadata": {},
   "source": [
    "> 查看HTML将看到接收到的新浪首页"
   ]
  }
 ],
 "metadata": {
  "kernelspec": {
   "display_name": "Python 3",
   "language": "python",
   "name": "python3"
  },
  "language_info": {
   "codemirror_mode": {
    "name": "ipython",
    "version": 3
   },
   "file_extension": ".py",
   "mimetype": "text/x-python",
   "name": "python",
   "nbconvert_exporter": "python",
   "pygments_lexer": "ipython3",
   "version": "3.6.4"
  }
 },
 "nbformat": 4,
 "nbformat_minor": 2
}
